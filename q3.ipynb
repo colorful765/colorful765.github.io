{
 "cells": [
  {
   "cell_type": "markdown",
   "id": "e79ee50d",
   "metadata": {},
   "source": [
    "# Data Preprocess"
   ]
  },
  {
   "cell_type": "code",
   "execution_count": 13,
   "id": "20a39189",
   "metadata": {},
   "outputs": [],
   "source": [
    "import torch\n",
    "import torch.nn as nn\n",
    "import torch.optim as optim\n",
    "import torchvision.transforms as transforms\n",
    "from torch.utils.data import DataLoader\n",
    "from torchvision.datasets import ImageFolder\n",
    "from torchvision.models import resnet50\n",
    "from sklearn.metrics import confusion_matrix, roc_curve, auc\n",
    "import matplotlib.pyplot as plt"
   ]
  },
  {
   "cell_type": "markdown",
   "id": "7bb6c201",
   "metadata": {},
   "source": [
    "Set random seed for reproducibility\n"
   ]
  },
  {
   "cell_type": "code",
   "execution_count": 2,
   "id": "0e1cdc54",
   "metadata": {},
   "outputs": [
    {
     "data": {
      "text/plain": [
       "<torch._C.Generator at 0x7fdb1c4caa90>"
      ]
     },
     "execution_count": 2,
     "metadata": {},
     "output_type": "execute_result"
    }
   ],
   "source": [
    "torch.manual_seed(42)\n"
   ]
  },
  {
   "cell_type": "markdown",
   "id": "6aaff78c",
   "metadata": {},
   "source": [
    "Define the data directory paths\n"
   ]
  },
  {
   "cell_type": "code",
   "execution_count": 3,
   "id": "b5f49a9a",
   "metadata": {},
   "outputs": [],
   "source": [
    "train_data_dir =  '/home/yqx/Q3/data/train'\n",
    "test_data_dir =  '/home/yqx/Q3/data/test'"
   ]
  },
  {
   "cell_type": "markdown",
   "id": "005ed9da",
   "metadata": {},
   "source": [
    "Define the transformations applied to the images\n"
   ]
  },
  {
   "cell_type": "code",
   "execution_count": 4,
   "id": "9ee541a6",
   "metadata": {},
   "outputs": [],
   "source": [
    "transform = transforms.Compose([\n",
    "    transforms.Resize((32, 32)),\n",
    "    transforms.ToTensor(),# Convert PIL image to PyTorch tensor\n",
    "    transforms.Normalize(mean=[0.485, 0.456, 0.406], std=[0.229, 0.224, 0.225]) # Normalize image pixels\n",
    "])\n"
   ]
  },
  {
   "cell_type": "markdown",
   "id": "d59b552a",
   "metadata": {},
   "source": [
    "Load the train and test datasets\n"
   ]
  },
  {
   "cell_type": "code",
   "execution_count": 5,
   "id": "88acc02e",
   "metadata": {},
   "outputs": [],
   "source": [
    "train_dataset = ImageFolder(train_data_dir, transform=transform)\n",
    "test_dataset = ImageFolder(test_data_dir, transform=transform)"
   ]
  },
  {
   "cell_type": "markdown",
   "id": "fda9012b",
   "metadata": {},
   "source": [
    "Create data loaders"
   ]
  },
  {
   "cell_type": "code",
   "execution_count": 6,
   "id": "8fcd7051",
   "metadata": {},
   "outputs": [],
   "source": [
    "batch_size = 256\n",
    "train_loader = DataLoader(train_dataset, batch_size=batch_size, shuffle=True)\n",
    "test_loader = DataLoader(test_dataset, batch_size=batch_size, shuffle=False)"
   ]
  },
  {
   "cell_type": "markdown",
   "id": "3231f5fa",
   "metadata": {},
   "source": [
    "# Train the model\n"
   ]
  },
  {
   "cell_type": "markdown",
   "id": "623dd23a",
   "metadata": {},
   "source": [
    "Load the pre-trained ResNet model"
   ]
  },
  {
   "cell_type": "code",
   "execution_count": 7,
   "id": "41448ef2",
   "metadata": {},
   "outputs": [
    {
     "name": "stderr",
     "output_type": "stream",
     "text": [
      "/root/anaconda3/lib/python3.9/site-packages/torchvision/models/_utils.py:208: UserWarning: The parameter 'pretrained' is deprecated since 0.13 and will be removed in 0.15, please use 'weights' instead.\n",
      "  warnings.warn(\n",
      "/root/anaconda3/lib/python3.9/site-packages/torchvision/models/_utils.py:223: UserWarning: Arguments other than a weight enum or `None` for 'weights' are deprecated since 0.13 and will be removed in 0.15. The current behavior is equivalent to passing `weights=ResNet50_Weights.IMAGENET1K_V1`. You can also use `weights=ResNet50_Weights.DEFAULT` to get the most up-to-date weights.\n",
      "  warnings.warn(msg)\n"
     ]
    }
   ],
   "source": [
    "model = resnet50(pretrained=True)"
   ]
  },
  {
   "cell_type": "markdown",
   "id": "88428b79",
   "metadata": {},
   "source": [
    "Modify the fully connected layer for our task\n"
   ]
  },
  {
   "cell_type": "code",
   "execution_count": 8,
   "id": "1e4749b9",
   "metadata": {},
   "outputs": [],
   "source": [
    "num_ftrs = model.fc.in_features\n",
    "model.fc = nn.Linear(num_ftrs, 2)"
   ]
  },
  {
   "cell_type": "markdown",
   "id": "aaa5f4db",
   "metadata": {},
   "source": [
    "Define the loss function and optimizer"
   ]
  },
  {
   "cell_type": "code",
   "execution_count": 9,
   "id": "f8fdacd2",
   "metadata": {},
   "outputs": [],
   "source": [
    "criterion = nn.CrossEntropyLoss()\n",
    "optimizer = optim.Adam(model.parameters(), lr=0.001)"
   ]
  },
  {
   "cell_type": "markdown",
   "id": "58bb2afa",
   "metadata": {},
   "source": [
    "Train the model\n"
   ]
  },
  {
   "cell_type": "code",
   "execution_count": 10,
   "id": "4c8917db",
   "metadata": {},
   "outputs": [
    {
     "name": "stdout",
     "output_type": "stream",
     "text": [
      "Epoch 1/10\n",
      "Train Loss: 0.1557, Train Accuracy: 93.83%\n",
      "Epoch 2/10\n",
      "Train Loss: 0.0888, Train Accuracy: 96.62%\n",
      "Epoch 3/10\n",
      "Train Loss: 0.0732, Train Accuracy: 97.29%\n",
      "Epoch 4/10\n",
      "Train Loss: 0.0580, Train Accuracy: 97.85%\n",
      "Epoch 5/10\n",
      "Train Loss: 0.0483, Train Accuracy: 98.21%\n",
      "Epoch 6/10\n",
      "Train Loss: 0.0413, Train Accuracy: 98.47%\n",
      "Epoch 7/10\n",
      "Train Loss: 0.0361, Train Accuracy: 98.67%\n",
      "Epoch 8/10\n",
      "Train Loss: 0.0308, Train Accuracy: 98.88%\n",
      "Epoch 9/10\n",
      "Train Loss: 0.0295, Train Accuracy: 98.88%\n",
      "Epoch 10/10\n",
      "Train Loss: 0.0261, Train Accuracy: 99.03%\n"
     ]
    }
   ],
   "source": [
    "num_epochs = 10\n",
    "\n",
    "device = torch.device(\"cuda\" if torch.cuda.is_available() else \"cpu\")\n",
    "model.to(device)# move the model to the device whether GPU  or CPU\n",
    "\n",
    "for epoch in range(num_epochs):\n",
    "    train_loss = 0.0\n",
    "    train_correct = 0\n",
    "\n",
    "    model.train()  # Set the model to training mode\n",
    "    for images, labels in train_loader:\n",
    "        images = images.to(device)  # Move images to the device (GPU if available)\n",
    "        labels = labels.to(device)  # Move labels to the device (GPU if available)\n",
    "\n",
    "        optimizer.zero_grad()  # Clear the gradients from previous iteration\n",
    "\n",
    "        outputs = model(images)  # Forward pass to get the predicted outputs\n",
    "        loss = criterion(outputs, labels)  # Compute the loss\n",
    "        loss.backward()  # Backpropagation to compute the gradients\n",
    "        optimizer.step()  # Update the model parameters using the gradients\n",
    "\n",
    "        _, predicted = torch.max(outputs, 1)  # Get the predicted labels\n",
    "        train_correct += (predicted == labels).sum().item()  # Count the number of correct predictions\n",
    "        train_loss += loss.item() * images.size(0)  # Accumulate the loss\n",
    "\n",
    "    train_accuracy = 100.0 * train_correct / len(train_dataset)  # Calculate training accuracy\n",
    "    train_loss /= len(train_dataset)  # Calculate average training loss\n",
    "\n",
    "    print(f\"Epoch {epoch+1}/{num_epochs}\")\n",
    "    print(f\"Train Loss: {train_loss:.4f}, Train Accuracy: {train_accuracy:.2f}%\")"
   ]
  },
  {
   "cell_type": "markdown",
   "id": "6abc7b88",
   "metadata": {},
   "source": [
    "# Evaluate the model on the test set\n"
   ]
  },
  {
   "cell_type": "code",
   "execution_count": 11,
   "id": "7d8a7d18",
   "metadata": {},
   "outputs": [
    {
     "name": "stdout",
     "output_type": "stream",
     "text": [
      "Test Accuracy: 96.81%\n"
     ]
    }
   ],
   "source": [
    "model.eval()  # Set the model to evaluation mode\n",
    "\n",
    "test_correct = 0\n",
    "predictions = []\n",
    "true_labels = []\n",
    "\n",
    "with torch.no_grad():\n",
    "    for images, labels in test_loader:\n",
    "        images = images.to(device)  # Move images to the device (GPU if available)\n",
    "        labels = labels.to(device)  # Move labels to the device (GPU if available)\n",
    "\n",
    "        outputs = model(images)  # Forward pass to get the predicted outputs\n",
    "        _, predicted = torch.max(outputs, 1)  # Get the predicted labels\n",
    "        test_correct += (predicted == labels).sum().item()  # Count the number of correct predictions\n",
    "\n",
    "        predictions.extend(predicted.tolist())  # Collect predicted labels\n",
    "        true_labels.extend(labels.tolist())  # Collect true labels\n",
    "\n",
    "test_accuracy = 100.0 * test_correct / len(test_dataset)  # Calculate test accuracy\n",
    "\n",
    "print(f\"Test Accuracy: {test_accuracy:.2f}%\")"
   ]
  },
  {
   "cell_type": "markdown",
   "id": "6e4a54a5",
   "metadata": {},
   "source": [
    "# Compute and print the confusion matrix\n"
   ]
  },
  {
   "cell_type": "code",
   "execution_count": 14,
   "id": "dbc04f3a",
   "metadata": {},
   "outputs": [
    {
     "name": "stdout",
     "output_type": "stream",
     "text": [
      "Confusion Matrix:\n",
      "[[9598  402]\n",
      " [ 237 9763]]\n"
     ]
    },
    {
     "data": {
      "image/png": "[encoded data removed]",
      "text/plain": [
       "<Figure size 576x432 with 2 Axes>"
      ]
     },
     "metadata": {
      "needs_background": "light"
     },
     "output_type": "display_data"
    }
   ],
   "source": [
    "import seaborn as sns\n",
    "# Compute and print the confusion matrix\n",
    "confusion_mat = confusion_matrix(true_labels, predictions)\n",
    "print(\"Confusion Matrix:\")\n",
    "print(confusion_mat)\n",
    "\n",
    "# Plot the confusion matrix\n",
    "plt.figure(figsize=(8, 6))\n",
    "sns.heatmap(confusion_mat, annot=True, fmt=\"d\", cmap=\"Blues\")\n",
    "plt.title(\"Confusion Matrix\")\n",
    "plt.xlabel(\"Predicted Labels\")\n",
    "plt.ylabel(\"True Labels\")\n",
    "plt.show()"
   ]
  }
 ],
 "metadata": {
  "kernelspec": {
   "display_name": "Python 3 (ipykernel)",
   "language": "python",
   "name": "python3"
  },
  "language_info": {
   "codemirror_mode": {
    "name": "ipython",
    "version": 3
   },
   "file_extension": ".py",
   "mimetype": "text/x-python",
   "name": "python",
   "nbconvert_exporter": "python",
   "pygments_lexer": "ipython3",
   "version": "3.9.7"
  }
 },
 "nbformat": 4,
 "nbformat_minor": 5
}
